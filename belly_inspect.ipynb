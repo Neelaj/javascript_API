{
 "cells": [
  {
   "cell_type": "code",
   "execution_count": 1,
   "metadata": {},
   "outputs": [],
   "source": [
    "#################################################\n",
    "# import dependencies \n",
    "#################################################\n",
    "from flask import Flask, render_template, jsonify, redirect\n",
    "\n",
    "import sqlalchemy\n",
    "from sqlalchemy.ext.automap import automap_base\n",
    "from sqlalchemy.orm import Session\n",
    "from sqlalchemy import create_engine, func\n"
   ]
  },
  {
   "cell_type": "code",
   "execution_count": 2,
   "metadata": {},
   "outputs": [],
   "source": [
    "#################################################\n",
    "# Flask Setup\n",
    "#################################################\n",
    "app = Flask(__name__)\n"
   ]
  },
  {
   "cell_type": "code",
   "execution_count": 3,
   "metadata": {},
   "outputs": [],
   "source": [
    "#################################################\n",
    "# sqlite : connect to the existing database\n",
    "#################################################\n",
    "engine = create_engine(\"sqlite:///belly_button_biodiversity.sqlite\", echo=False)\n"
   ]
  },
  {
   "cell_type": "code",
   "execution_count": 4,
   "metadata": {},
   "outputs": [],
   "source": [
    "Base = automap_base()\n",
    "Base.prepare(engine, reflect=True)\n"
   ]
  },
  {
   "cell_type": "code",
   "execution_count": 5,
   "metadata": {},
   "outputs": [
    {
     "data": {
      "text/plain": [
       "['otu', 'samples', 'samples_metadata']"
      ]
     },
     "execution_count": 5,
     "metadata": {},
     "output_type": "execute_result"
    }
   ],
   "source": [
    "Base.classes.keys()\n"
   ]
  },
  {
   "cell_type": "code",
   "execution_count": 6,
   "metadata": {},
   "outputs": [],
   "source": [
    "OTU = Base.classes.otu\n"
   ]
  },
  {
   "cell_type": "code",
   "execution_count": 7,
   "metadata": {},
   "outputs": [],
   "source": [
    "Samples = Base.classes.samples\n"
   ]
  },
  {
   "cell_type": "code",
   "execution_count": 8,
   "metadata": {},
   "outputs": [],
   "source": [
    "SamplesMetadata = Base.classes.samples_metadata\n"
   ]
  },
  {
   "cell_type": "code",
   "execution_count": 9,
   "metadata": {},
   "outputs": [],
   "source": [
    "session = Session(engine)\n"
   ]
  },
  {
   "cell_type": "code",
   "execution_count": 10,
   "metadata": {},
   "outputs": [],
   "source": [
    "#################################################\n",
    "# Flask Routes\n",
    "#################################################\n",
    "# render index.html\n",
    "@app.route(\"/\")\n",
    "def default():\n",
    "\n",
    "    sample_list_v = names()\n",
    "    print(sample_list_v)\n",
    "\n",
    "    return render_template(\"index.html\")\n"
   ]
  },
  {
   "cell_type": "code",
   "execution_count": null,
   "metadata": {},
   "outputs": [],
   "source": [
    "# list of sample names \n",
    "@app.route(\"/names\", methods=['POST','GET'])\n",
    "def names():\n",
    "\n",
    "    samples_cols_list = Base.classes.samples.__table__.columns.keys()\n",
    "    sample_list = samples_cols_list[1:]\n",
    "    return jsonify(samples_cols_list[1:])\n",
    "\n",
    "# otu_id's\n",
    "@app.route(\"/otu\", methods=['POST','GET'])\n",
    "def otu():\n",
    "\n",
    "    otu_desc = session.query(OTU.lowest_taxonomic_unit_found).all()\n",
    "    otu_descriptions = [i[0] for i in otu_desc]\n",
    "    return jsonify(otu_descriptions)\n",
    "\n",
    "# metadata for a specific sample\n",
    "@app.route('/metadata/<sample>', methods=['POST','GET'])\n",
    "def metadata(sample):\n",
    "\n",
    "    results = session.query(SamplesMetadata).filter(SamplesMetadata.SAMPLEID == sample[3:]).all()\n",
    "    dict1 = {}\n",
    "    for k,v in results[0].__dict__.items():\n",
    "        if ('AGE' in k or 'BBTYPE' in k or 'ETHNICITY' in k or 'GENDER' in k or 'LOCATION' in k or 'SAMPLEID' in k):\n",
    "            dict1[k] = v\n",
    "\n",
    "    return jsonify(dict1)\n",
    "    \n",
    "# washing frequency for a specific sample\n",
    "@app.route('/wfreq/<sample>', methods=['POST','GET'])\n",
    "def wfreq(sample):\n",
    "\n",
    "    results = session.query(SamplesMetadata.WFREQ).filter(SamplesMetadata.SAMPLEID == sample[3:]).all()\n",
    "    \n",
    "    return jsonify(results[0][0])\n",
    "\n",
    "# otu_id's and corresponding sample count in descending order \n",
    "# for a specific sample\n",
    "@app.route('/samples/<sample>', methods=['POST','GET'])\n",
    "def samples(sample):\n",
    "\n",
    "    results = session.query(Samples.otu_id,getattr(Samples, sample)).order_by(getattr(Samples, sample).desc()).all()\n",
    "    results\n",
    "    dict1 = {}\n",
    "    dict2 = {}\n",
    "    list1 = []\n",
    "    list2 = []\n",
    "    list3 = []\n",
    "    for x in results:\n",
    "        if(x[1] > 0):\n",
    "            list1.append(x[0])\n",
    "            list2.append(x[1])\n",
    "    dict1['otu_id'] = list1\n",
    "    dict1['sample_values'] = list2\n",
    "    list3.append(dict1)\n",
    "    list3\n",
    "\n",
    "    return jsonify(list3)\n",
    "\n",
    "\n",
    "# Initiate the Flask app\n",
    "if __name__ == '__main__':\n",
    "    app.run(debug=True)"
   ]
  }
 ],
 "metadata": {
  "kernelspec": {
   "display_name": "Python [default]",
   "language": "python",
   "name": "python3"
  },
  "language_info": {
   "codemirror_mode": {
    "name": "ipython",
    "version": 3
   },
   "file_extension": ".py",
   "mimetype": "text/x-python",
   "name": "python",
   "nbconvert_exporter": "python",
   "pygments_lexer": "ipython3",
   "version": "3.6.4"
  }
 },
 "nbformat": 4,
 "nbformat_minor": 2
}
